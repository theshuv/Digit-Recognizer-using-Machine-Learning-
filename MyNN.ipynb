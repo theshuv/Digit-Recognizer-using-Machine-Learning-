{
 "cells": [
  {
   "cell_type": "code",
   "execution_count": 1,
   "metadata": {},
   "outputs": [],
   "source": [
    "import tensorflow as tf\n",
    "(x_train, y_train), (x_test, y_test) = tf.keras.datasets.mnist.load_data()"
   ]
  },
  {
   "cell_type": "code",
   "execution_count": 2,
   "metadata": {},
   "outputs": [
    {
     "name": "stdout",
     "output_type": "stream",
     "text": [
      "8\n"
     ]
    },
    {
     "data": {
      "text/plain": [
       "<matplotlib.image.AxesImage at 0x14312b00>"
      ]
     },
     "execution_count": 2,
     "metadata": {},
     "output_type": "execute_result"
    }
   ],
   "source": [
    "import matplotlib.pyplot as plt\n",
    "#%matplotlib inline # Only use this if using iPython\n",
    "image_index = 7777 # You may select anything up to 60,000\n",
    "print(y_train[image_index]) # The label is 8\n",
    "plt.imshow(x_train[image_index], cmap='Greys')"
   ]
  },
  {
   "cell_type": "code",
   "execution_count": 4,
   "metadata": {},
   "outputs": [
    {
     "data": {
      "text/plain": [
       "(60000, 28, 28)"
      ]
     },
     "execution_count": 4,
     "metadata": {},
     "output_type": "execute_result"
    }
   ],
   "source": [
    "x_train.shape"
   ]
  },
  {
   "cell_type": "code",
   "execution_count": 6,
   "metadata": {},
   "outputs": [
    {
     "name": "stdout",
     "output_type": "stream",
     "text": [
      "x_train shape: (60000, 28, 28, 1)\n",
      "Number of images in x_train 60000\n",
      "Number of images in x_test 10000\n"
     ]
    }
   ],
   "source": [
    "# Reshaping the array to 4-dims so that it can work with the Keras API\n",
    "x_train = x_train.reshape(x_train.shape[0], 28, 28, 1)\n",
    "x_test = x_test.reshape(x_test.shape[0], 28, 28, 1)\n",
    "input_shape = (28, 28, 1)\n",
    "# Making sure that the values are float so that we can get decimal points after division\n",
    "x_train = x_train.astype('float32')\n",
    "x_test = x_test.astype('float32')\n",
    "# Normalizing the RGB codes by dividing it to the max RGB value.\n",
    "x_train /= 255\n",
    "x_test /= 255\n",
    "print('x_train shape:', x_train.shape)\n",
    "print('Number of images in x_train', x_train.shape[0])\n",
    "print('Number of images in x_test', x_test.shape[0])"
   ]
  },
  {
   "cell_type": "code",
   "execution_count": 7,
   "metadata": {},
   "outputs": [
    {
     "name": "stderr",
     "output_type": "stream",
     "text": [
      "Using TensorFlow backend.\n"
     ]
    },
    {
     "name": "stdout",
     "output_type": "stream",
     "text": [
      "WARNING:tensorflow:From C:\\Users\\dbda24\\AppData\\Local\\Continuum\\anaconda3\\lib\\site-packages\\keras\\backend\\tensorflow_backend.py:74: The name tf.get_default_graph is deprecated. Please use tf.compat.v1.get_default_graph instead.\n",
      "\n",
      "WARNING:tensorflow:From C:\\Users\\dbda24\\AppData\\Local\\Continuum\\anaconda3\\lib\\site-packages\\keras\\backend\\tensorflow_backend.py:517: The name tf.placeholder is deprecated. Please use tf.compat.v1.placeholder instead.\n",
      "\n",
      "WARNING:tensorflow:From C:\\Users\\dbda24\\AppData\\Local\\Continuum\\anaconda3\\lib\\site-packages\\keras\\backend\\tensorflow_backend.py:4138: The name tf.random_uniform is deprecated. Please use tf.random.uniform instead.\n",
      "\n",
      "WARNING:tensorflow:From C:\\Users\\dbda24\\AppData\\Local\\Continuum\\anaconda3\\lib\\site-packages\\keras\\backend\\tensorflow_backend.py:3976: The name tf.nn.max_pool is deprecated. Please use tf.nn.max_pool2d instead.\n",
      "\n",
      "WARNING:tensorflow:From C:\\Users\\dbda24\\AppData\\Local\\Continuum\\anaconda3\\lib\\site-packages\\keras\\backend\\tensorflow_backend.py:133: The name tf.placeholder_with_default is deprecated. Please use tf.compat.v1.placeholder_with_default instead.\n",
      "\n",
      "WARNING:tensorflow:From C:\\Users\\dbda24\\AppData\\Local\\Continuum\\anaconda3\\lib\\site-packages\\keras\\backend\\tensorflow_backend.py:3445: calling dropout (from tensorflow.python.ops.nn_ops) with keep_prob is deprecated and will be removed in a future version.\n",
      "Instructions for updating:\n",
      "Please use `rate` instead of `keep_prob`. Rate should be set to `rate = 1 - keep_prob`.\n"
     ]
    }
   ],
   "source": [
    "from keras.models import Sequential\n",
    "from keras.layers import Dense, Conv2D, Dropout, Flatten, MaxPooling2D\n",
    "# Creating a Sequential Model and adding the layers\n",
    "model = Sequential()\n",
    "model.add(Conv2D(28, kernel_size=(3,3), input_shape=input_shape))\n",
    "model.add(MaxPooling2D(pool_size=(2, 2)))\n",
    "model.add(Flatten()) # Flattening the 2D arrays for fully connected layers\n",
    "model.add(Dense(128, activation=tf.nn.relu))\n",
    "model.add(Dropout(0.2))\n",
    "model.add(Dense(10,activation=tf.nn.softmax))"
   ]
  },
  {
   "cell_type": "code",
   "execution_count": 8,
   "metadata": {},
   "outputs": [
    {
     "name": "stdout",
     "output_type": "stream",
     "text": [
      "WARNING:tensorflow:From C:\\Users\\dbda24\\AppData\\Local\\Continuum\\anaconda3\\lib\\site-packages\\keras\\optimizers.py:790: The name tf.train.Optimizer is deprecated. Please use tf.compat.v1.train.Optimizer instead.\n",
      "\n",
      "WARNING:tensorflow:From C:\\Users\\dbda24\\AppData\\Local\\Continuum\\anaconda3\\lib\\site-packages\\keras\\backend\\tensorflow_backend.py:3341: The name tf.log is deprecated. Please use tf.math.log instead.\n",
      "\n",
      "WARNING:tensorflow:From C:\\Users\\dbda24\\AppData\\Local\\Continuum\\anaconda3\\lib\\site-packages\\tensorflow\\python\\ops\\math_grad.py:1250: add_dispatch_support.<locals>.wrapper (from tensorflow.python.ops.array_ops) is deprecated and will be removed in a future version.\n",
      "Instructions for updating:\n",
      "Use tf.where in 2.0, which has the same broadcast rule as np.where\n",
      "Epoch 1/10\n",
      "60000/60000 [==============================] - 35s 591us/step - loss: 0.6012 - acc: 0.8181\n",
      "Epoch 2/10\n",
      "60000/60000 [==============================] - 34s 563us/step - loss: 0.2336 - acc: 0.9304\n",
      "Epoch 3/10\n",
      "60000/60000 [==============================] - 34s 561us/step - loss: 0.1705 - acc: 0.9496\n",
      "Epoch 4/10\n",
      "60000/60000 [==============================] - 34s 569us/step - loss: 0.1416 - acc: 0.9574\n",
      "Epoch 5/10\n",
      "60000/60000 [==============================] - 34s 565us/step - loss: 0.1203 - acc: 0.9640\n",
      "Epoch 6/10\n",
      "60000/60000 [==============================] - 34s 561us/step - loss: 0.1061 - acc: 0.9676\n",
      "Epoch 7/10\n",
      "60000/60000 [==============================] - 34s 562us/step - loss: 0.0941 - acc: 0.9712\n",
      "Epoch 8/10\n",
      "60000/60000 [==============================] - 34s 564us/step - loss: 0.0857 - acc: 0.9735\n",
      "Epoch 9/10\n",
      "60000/60000 [==============================] - 34s 562us/step - loss: 0.0796 - acc: 0.9748\n",
      "Epoch 10/10\n",
      "60000/60000 [==============================] - 34s 566us/step - loss: 0.0736 - acc: 0.9769\n"
     ]
    },
    {
     "data": {
      "text/plain": [
       "<keras.callbacks.History at 0x144b2550>"
      ]
     },
     "execution_count": 8,
     "metadata": {},
     "output_type": "execute_result"
    }
   ],
   "source": [
    "model.compile(optimizer='adam', \n",
    "              loss='sparse_categorical_crossentropy', \n",
    "              metrics=['accuracy'])\n",
    "model.fit(x=x_train,y=y_train, epochs=10)"
   ]
  },
  {
   "cell_type": "code",
   "execution_count": 9,
   "metadata": {},
   "outputs": [
    {
     "name": "stdout",
     "output_type": "stream",
     "text": [
      "10000/10000 [==============================] - 1s 131us/step\n"
     ]
    },
    {
     "data": {
      "text/plain": [
       "[0.0719357019403018, 0.9783]"
      ]
     },
     "execution_count": 9,
     "metadata": {},
     "output_type": "execute_result"
    }
   ],
   "source": [
    "model.evaluate(x_test, y_test)"
   ]
  },
  {
   "cell_type": "code",
   "execution_count": 13,
   "metadata": {},
   "outputs": [
    {
     "name": "stdout",
     "output_type": "stream",
     "text": [
      "\n",
      "Predicted Number is : 9\n"
     ]
    },
    {
     "ename": "AttributeError",
     "evalue": "'numpy.ndarray' object has no attribute 'type'",
     "output_type": "error",
     "traceback": [
      "\u001b[1;31m---------------------------------------------------------------------------\u001b[0m",
      "\u001b[1;31mAttributeError\u001b[0m                            Traceback (most recent call last)",
      "\u001b[1;32m<ipython-input-13-4befb10be41d>\u001b[0m in \u001b[0;36m<module>\u001b[1;34m\u001b[0m\n\u001b[0;32m      3\u001b[0m \u001b[0mpred\u001b[0m \u001b[1;33m=\u001b[0m \u001b[0mmodel\u001b[0m\u001b[1;33m.\u001b[0m\u001b[0mpredict\u001b[0m\u001b[1;33m(\u001b[0m\u001b[0mx_test\u001b[0m\u001b[1;33m[\u001b[0m\u001b[0mimage_index\u001b[0m\u001b[1;33m]\u001b[0m\u001b[1;33m.\u001b[0m\u001b[0mreshape\u001b[0m\u001b[1;33m(\u001b[0m\u001b[1;36m1\u001b[0m\u001b[1;33m,\u001b[0m \u001b[1;36m28\u001b[0m\u001b[1;33m,\u001b[0m \u001b[1;36m28\u001b[0m\u001b[1;33m,\u001b[0m \u001b[1;36m1\u001b[0m\u001b[1;33m)\u001b[0m\u001b[1;33m)\u001b[0m\u001b[1;33m\u001b[0m\u001b[1;33m\u001b[0m\u001b[0m\n\u001b[0;32m      4\u001b[0m \u001b[0mprint\u001b[0m\u001b[1;33m(\u001b[0m\u001b[1;34m'\\nPredicted Number is : '\u001b[0m\u001b[1;33m+\u001b[0m\u001b[0mstr\u001b[0m\u001b[1;33m(\u001b[0m\u001b[0mpred\u001b[0m\u001b[1;33m.\u001b[0m\u001b[0margmax\u001b[0m\u001b[1;33m(\u001b[0m\u001b[1;33m)\u001b[0m\u001b[1;33m)\u001b[0m\u001b[1;33m)\u001b[0m\u001b[1;33m\u001b[0m\u001b[1;33m\u001b[0m\u001b[0m\n\u001b[1;32m----> 5\u001b[1;33m \u001b[0mprint\u001b[0m\u001b[1;33m(\u001b[0m\u001b[0mx_test\u001b[0m\u001b[1;33m[\u001b[0m\u001b[0mimage_index\u001b[0m\u001b[1;33m]\u001b[0m\u001b[1;33m.\u001b[0m\u001b[0mtype\u001b[0m\u001b[1;33m)\u001b[0m\u001b[1;33m\u001b[0m\u001b[1;33m\u001b[0m\u001b[0m\n\u001b[0m",
      "\u001b[1;31mAttributeError\u001b[0m: 'numpy.ndarray' object has no attribute 'type'"
     ]
    },
    {
     "data": {
      "image/png": "[encoded data removed]",
      "text/plain": [
       "<Figure size 432x288 with 1 Axes>"
      ]
     },
     "metadata": {
      "needs_background": "light"
     },
     "output_type": "display_data"
    }
   ],
   "source": [
    "image_index = 4444\n",
    "plt.imshow(x_test[image_index].reshape(28, 28),cmap='Greys')\n",
    "pred = model.predict(x_test[image_index].reshape(1, 28, 28, 1))\n",
    "print('\\nPredicted Number is : '+str(pred.argmax()))\n",
    "#print(x_test[image_index])"
   ]
  },
  {
   "cell_type": "code",
   "execution_count": 14,
   "metadata": {},
   "outputs": [],
   "source": [
    "#if __name__==\"__main__\":\n",
    "\n",
    "\n",
    "\n",
    "import matplotlib.pyplot as plt\n",
    "\n",
    "def predict1():\n",
    "    input2=inputs.get()\n",
    "    fig=plt.imshow(x_test[input2].reshape(28, 28),cmap='Greys')\n",
    "    #plt.show()\n",
    "    plt.savefig('abc.png')\n",
    "    pred = model.predict(x_test[input2].reshape(1, 28, 28, 1))\n",
    "    print('\\nPredicted Number is : '+str(pred.argmax()))\n",
    "    \n",
    "    \n",
    "    photo=tk.PhotoImage(file=\"abc.png\")\n",
    "    label5=Label(root,image=photo,bg=\"powder blue\").place(x=15,y=295,width=250, height=270)\n",
    "    label5.show()\n",
    "    \n",
    "    \n",
    "    \n",
    "    "
   ]
  },
  {
   "cell_type": "code",
   "execution_count": 15,
   "metadata": {},
   "outputs": [],
   "source": [
    "def predict():\n",
    "    \n",
    "    input2=inputs.get()\n",
    "    fig=plt.imshow(x_test[input2].reshape(28, 28),cmap='Greys')\n",
    "    plt.savefig('abc.png')\n",
    "    pred = model.predict(x_test[input2].reshape(1, 28, 28, 1))\n",
    "    photo=tk.PhotoImage(file=\"abc.png\")\n",
    "    label1=Label(root,image=photo,bg=\"powder blue\").place(x=15,y=295,width=250, height=270)\n",
    "    \n",
    "    \n",
    "    v = tk.IntVar()\n",
    "    a=pred.argmax()\n",
    "    v.set(a)\n",
    "    label2=tk.Label(root,text=\"Predicted Number is : \", font=(\"ariel\",16,\"bold italic\"),fg=\"black\",bg=\"powder blue\").place(x=265,y=540)\n",
    "    label3=tk.Label(root, textvariable=v,font=(\"ariel\",26,\"bold\"),fg=\"black\",bg=\"powder blue\").place(x=500,y=525)\n",
    "    #label2.pack()\n",
    "    #label3.pack()\n",
    "    label1.pack()\n",
    "    "
   ]
  },
  {
   "cell_type": "code",
   "execution_count": 20,
   "metadata": {},
   "outputs": [],
   "source": [
    "import sys\n",
    "\n",
    "import tkinter as tk\n",
    "from tkinter import *\n",
    "\n",
    "#from PIL import ImageTk, Image\n",
    "\n",
    "\n",
    "#root=tk.Toplevel()\n",
    "#canvas=Canvas(root,width=640,height=640)\n",
    "#canvas.pack()\n",
    "#background_image=Image.open(\"C:\\\\Users\\\\dbda24\\\\tmp\\\\data\\\\pix.png\")\n",
    "#ph=ImageTk.PhotoImage(background_image)\n",
    "\n",
    "#label = Label(root, image=ph)\n",
    "#label.image=ph \n",
    "#canvas.create_image(0,0,anchor=NW,image=ph)\n",
    "\n",
    "#background_label = tk.Label(root, image=background_image)\n",
    "#background_label.place(x=0, y=0, relwidth=1, relheight=1)\n",
    "\n",
    "root=tk.Tk()\n",
    "root[\"bg\"] = \"powder blue\"\n",
    "root.title(\"Iacsd.\")\n",
    "root.geometry(\"640x640+0+0\")\n",
    "\n",
    "Heading=tk.Label(root,text=\"Project for Iacsd.\", font=(\"Times New Roman\",40,\"bold\"),fg=\"red\",bg=\"powder blue\").pack()\n",
    "\n",
    "photo=tk.PhotoImage(file=\"iacsd.png\")\n",
    "label3=Label(root,image=photo,bg=\"powder blue\").place(x=0,y=52,width=130, height=130)\n",
    "\n",
    "photo1=tk.PhotoImage(file=\"actslogo.png\")\n",
    "label4=Label(root,image=photo1,bg=\"powder blue\").place(x=370,y=80,width=266, height=102)\n",
    "\n",
    "\n",
    "label1=tk.Label(root,text=\"Enter index of image from Dataset [0:9999] :\",font=(\"Times\",16,\"bold\"),fg=\"black\",bg=\"powder blue\").place(x=15,y=195)\n",
    "labeln=tk.Label(root,text=\"DBDA Group no-18 =>   Shubham Vohra & Kapil tayde \",bd=1,relief=SUNKEN,fg=\"red\",bg=\"powder blue\",font=(\"Times\",15,\"bold italic\")).pack(side=BOTTOM,fill=X)\n"
   ]
  },
  {
   "cell_type": "code",
   "execution_count": 21,
   "metadata": {},
   "outputs": [],
   "source": [
    "\n",
    "inputs=tk.IntVar()\n",
    "entrybox=tk.Entry(root,textvariable=inputs,width=25,bg=\"lightgreen\").place(x=445,y=202)\n",
    "#inputs.delete(0, END)\n",
    "\n"
   ]
  },
  {
   "cell_type": "code",
   "execution_count": 22,
   "metadata": {},
   "outputs": [
    {
     "name": "stdout",
     "output_type": "stream",
     "text": [
      "\n",
      "Predicted Number is : 7\n"
     ]
    },
    {
     "name": "stderr",
     "output_type": "stream",
     "text": [
      "Exception in Tkinter callback\n",
      "Traceback (most recent call last):\n",
      "  File \"C:\\Users\\dbda24\\AppData\\Local\\Continuum\\anaconda3\\lib\\tkinter\\__init__.py\", line 1705, in __call__\n",
      "    return self.func(*args)\n",
      "  File \"<ipython-input-14-e450d44be621>\", line 18, in predict1\n",
      "    label5.show()\n",
      "AttributeError: 'NoneType' object has no attribute 'show'\n",
      "Exception in Tkinter callback\n",
      "Traceback (most recent call last):\n",
      "  File \"C:\\Users\\dbda24\\AppData\\Local\\Continuum\\anaconda3\\lib\\tkinter\\__init__.py\", line 1705, in __call__\n",
      "    return self.func(*args)\n",
      "  File \"<ipython-input-15-93908a23ad04>\", line 18, in predict\n",
      "    label1.pack()\n",
      "AttributeError: 'NoneType' object has no attribute 'pack'\n"
     ]
    },
    {
     "name": "stdout",
     "output_type": "stream",
     "text": [
      "\n",
      "Predicted Number is : 9\n"
     ]
    },
    {
     "name": "stderr",
     "output_type": "stream",
     "text": [
      "Exception in Tkinter callback\n",
      "Traceback (most recent call last):\n",
      "  File \"C:\\Users\\dbda24\\AppData\\Local\\Continuum\\anaconda3\\lib\\tkinter\\__init__.py\", line 1705, in __call__\n",
      "    return self.func(*args)\n",
      "  File \"<ipython-input-14-e450d44be621>\", line 18, in predict1\n",
      "    label5.show()\n",
      "AttributeError: 'NoneType' object has no attribute 'show'\n",
      "Exception in Tkinter callback\n",
      "Traceback (most recent call last):\n",
      "  File \"C:\\Users\\dbda24\\AppData\\Local\\Continuum\\anaconda3\\lib\\tkinter\\__init__.py\", line 1705, in __call__\n",
      "    return self.func(*args)\n",
      "  File \"<ipython-input-15-93908a23ad04>\", line 18, in predict\n",
      "    label1.pack()\n",
      "AttributeError: 'NoneType' object has no attribute 'pack'\n"
     ]
    },
    {
     "data": {
      "image/png": "[encoded data removed]",
      "text/plain": [
       "<Figure size 432x288 with 1 Axes>"
      ]
     },
     "metadata": {
      "needs_background": "light"
     },
     "output_type": "display_data"
    }
   ],
   "source": [
    "\n",
    "\n",
    "\n",
    "viewbutton=tk.Button(root,text=\"View Image\",font=(\"ariel\",10,\"bold\"),padx=50,pady=10,fg=\"black\",bg=\"steelblue\",command=predict1).place(x=140,y=240)\n",
    "prebutton=tk.Button(root,text=\"Predict\",font=(\"ariel\",10,\"bold\"),padx=60,pady=10,fg=\"black\",bg=\"steelblue\",command=predict).place(x=400,y=240)\n",
    "root.mainloop()"
   ]
  }
 ],
 "metadata": {
  "kernelspec": {
   "display_name": "Python 3",
   "language": "python",
   "name": "python3"
  },
  "language_info": {
   "codemirror_mode": {
    "name": "ipython",
    "version": 3
   },
   "file_extension": ".py",
   "mimetype": "text/x-python",
   "name": "python",
   "nbconvert_exporter": "python",
   "pygments_lexer": "ipython3",
   "version": "3.7.3"
  }
 },
 "nbformat": 4,
 "nbformat_minor": 2
}
